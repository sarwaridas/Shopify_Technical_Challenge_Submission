{
    "cells": [
        {
            "cell_type": "markdown",
            "source": [
                "## Summer 2022 Data Science Intern Challenge at Shopify\n",
                "### by Sarwari Das\n"
            ],
            "metadata": {}
        },
        {
            "cell_type": "markdown",
            "source": [
                "Question 1: Given some sample data, write a program to answer the following:\n",
                "\n",
                "On Shopify, we have exactly 100 sneaker shops, and each of these shops sells only one model of shoe. We want to do some analysis of the average order value (AOV). When we look at orders data over a 30 day window, we naively calculate an AOV of $3145.13. Given that we know these shops are selling sneakers, a relatively affordable item, something seems wrong with our analysis. \n",
                "\n",
                "Think about what could be going wrong with our calculation. Think about a better way to evaluate this data. \n",
                "What metric would you report for this dataset?\n",
                "What is its value?\n"
            ],
            "metadata": {}
        },
        {
            "cell_type": "markdown",
            "source": [
                "#### Reading data"
            ],
            "metadata": {}
        },
        {
            "cell_type": "code",
            "execution_count": 139,
            "source": [
                "import os\n",
                "import pandas as pd\n",
                "import numpy as np\n",
                "from datetime import datetime\n",
                "import altair as alt\n",
                "\n",
                "df = pd.read_csv(os.getcwd() + \"/00_source_data/data.csv\", parse_dates=[\"created_at\"])\n",
                "df[\"date\"] = df.created_at.dt.date\n",
                "# df.info()\n",
                "df.sample(5)\n"
            ],
            "outputs": [
                {
                    "output_type": "execute_result",
                    "data": {
                        "text/plain": [
                            "      order_id  shop_id  user_id  order_amount  total_items payment_method  \\\n",
                            "3216      3217       21      868           142            1    credit_card   \n",
                            "69          70       58      876           138            1          debit   \n",
                            "4563      4564       20      995           254            2    credit_card   \n",
                            "1708      1709       98      956           266            2    credit_card   \n",
                            "258        259       75      760           512            4           cash   \n",
                            "\n",
                            "              created_at        date  \n",
                            "3216 2017-03-19 00:25:36  2017-03-19  \n",
                            "69   2017-03-04 10:38:49  2017-03-04  \n",
                            "4563 2017-03-03 11:48:24  2017-03-03  \n",
                            "1708 2017-03-20 10:53:58  2017-03-20  \n",
                            "258  2017-03-18 08:19:53  2017-03-18  "
                        ],
                        "text/html": [
                            "<div>\n",
                            "<style scoped>\n",
                            "    .dataframe tbody tr th:only-of-type {\n",
                            "        vertical-align: middle;\n",
                            "    }\n",
                            "\n",
                            "    .dataframe tbody tr th {\n",
                            "        vertical-align: top;\n",
                            "    }\n",
                            "\n",
                            "    .dataframe thead th {\n",
                            "        text-align: right;\n",
                            "    }\n",
                            "</style>\n",
                            "<table border=\"1\" class=\"dataframe\">\n",
                            "  <thead>\n",
                            "    <tr style=\"text-align: right;\">\n",
                            "      <th></th>\n",
                            "      <th>order_id</th>\n",
                            "      <th>shop_id</th>\n",
                            "      <th>user_id</th>\n",
                            "      <th>order_amount</th>\n",
                            "      <th>total_items</th>\n",
                            "      <th>payment_method</th>\n",
                            "      <th>created_at</th>\n",
                            "      <th>date</th>\n",
                            "    </tr>\n",
                            "  </thead>\n",
                            "  <tbody>\n",
                            "    <tr>\n",
                            "      <th>3216</th>\n",
                            "      <td>3217</td>\n",
                            "      <td>21</td>\n",
                            "      <td>868</td>\n",
                            "      <td>142</td>\n",
                            "      <td>1</td>\n",
                            "      <td>credit_card</td>\n",
                            "      <td>2017-03-19 00:25:36</td>\n",
                            "      <td>2017-03-19</td>\n",
                            "    </tr>\n",
                            "    <tr>\n",
                            "      <th>69</th>\n",
                            "      <td>70</td>\n",
                            "      <td>58</td>\n",
                            "      <td>876</td>\n",
                            "      <td>138</td>\n",
                            "      <td>1</td>\n",
                            "      <td>debit</td>\n",
                            "      <td>2017-03-04 10:38:49</td>\n",
                            "      <td>2017-03-04</td>\n",
                            "    </tr>\n",
                            "    <tr>\n",
                            "      <th>4563</th>\n",
                            "      <td>4564</td>\n",
                            "      <td>20</td>\n",
                            "      <td>995</td>\n",
                            "      <td>254</td>\n",
                            "      <td>2</td>\n",
                            "      <td>credit_card</td>\n",
                            "      <td>2017-03-03 11:48:24</td>\n",
                            "      <td>2017-03-03</td>\n",
                            "    </tr>\n",
                            "    <tr>\n",
                            "      <th>1708</th>\n",
                            "      <td>1709</td>\n",
                            "      <td>98</td>\n",
                            "      <td>956</td>\n",
                            "      <td>266</td>\n",
                            "      <td>2</td>\n",
                            "      <td>credit_card</td>\n",
                            "      <td>2017-03-20 10:53:58</td>\n",
                            "      <td>2017-03-20</td>\n",
                            "    </tr>\n",
                            "    <tr>\n",
                            "      <th>258</th>\n",
                            "      <td>259</td>\n",
                            "      <td>75</td>\n",
                            "      <td>760</td>\n",
                            "      <td>512</td>\n",
                            "      <td>4</td>\n",
                            "      <td>cash</td>\n",
                            "      <td>2017-03-18 08:19:53</td>\n",
                            "      <td>2017-03-18</td>\n",
                            "    </tr>\n",
                            "  </tbody>\n",
                            "</table>\n",
                            "</div>"
                        ]
                    },
                    "metadata": {},
                    "execution_count": 139
                }
            ],
            "metadata": {}
        },
        {
            "cell_type": "markdown",
            "source": [
                "#### Exploring the data"
            ],
            "metadata": {}
        },
        {
            "cell_type": "markdown",
            "source": [
                "1. Sanity checks: \n",
                "- Check number of unique sneaker shops\n",
                "- Check for nulls in data\n",
                "- Check datatypes of columns\n",
                "- Reproduce AOV of $3145.13 for 30 day period"
            ],
            "metadata": {}
        },
        {
            "cell_type": "code",
            "execution_count": 140,
            "source": [
                "assert df.shop_id.nunique() == 100  # 100 shops as mentioned in the problem\n",
                "assert (\n",
                "    df.date.nunique() == 30\n",
                ")  # There are 30 days in total, we don't need to subset the data\n",
                "df.isna().sum()  # no null values across columns\n",
                "df.dtypes  # datatypes are as expected\n",
                "print(f\"AOV over 30 day period is ${np.round(df.order_amount.mean(),2)}\")\n"
            ],
            "outputs": [
                {
                    "output_type": "stream",
                    "name": "stdout",
                    "text": [
                        "AOV over 30 day period is $3145.13\n"
                    ]
                }
            ],
            "metadata": {}
        },
        {
            "cell_type": "markdown",
            "source": [
                "My initial suspicion is that the above statistic is sensitive to outliers, which drives the average value of a sneaker up. Although sneakers are usually an affordable item, there is still quite a lot of variance in the price of sneakers due to limited edition/designer sneakers that are collectibles are hence relatively expensive. Let's examine this distribution further.\n",
                "\n",
                "2. Summary Statistics"
            ],
            "metadata": {}
        },
        {
            "cell_type": "code",
            "execution_count": 141,
            "source": [
                "df.order_amount.describe()\n"
            ],
            "outputs": [
                {
                    "output_type": "execute_result",
                    "data": {
                        "text/plain": [
                            "count      5000.000000\n",
                            "mean       3145.128000\n",
                            "std       41282.539349\n",
                            "min          90.000000\n",
                            "25%         163.000000\n",
                            "50%         284.000000\n",
                            "75%         390.000000\n",
                            "max      704000.000000\n",
                            "Name: order_amount, dtype: float64"
                        ]
                    },
                    "metadata": {},
                    "execution_count": 141
                }
            ],
            "metadata": {}
        },
        {
            "cell_type": "markdown",
            "source": [
                "The most expensive shoe is $704,000! \n",
                "\n",
                "That's definitely biasing our results. The figures below show the distribution of the prices with a limit on price set at $1000 (I think that's reasonable given that the third quartile is $390). We can see that the prices for most shoes fall between the $200 - $400 range so its most likely that if we didn't have our outliers, the average price would be around that value. Hence we need a better measure of central tendency."
            ],
            "metadata": {}
        },
        {
            "cell_type": "code",
            "execution_count": 142,
            "source": [
                "import seaborn as sns\n",
                "import matplotlib.pyplot as plt\n",
                "%matplotlib inline\n",
                "%config InlineBackend.figure_format = 'retina' \n",
                "\n",
                "#Plotting histogram of prices\n",
                "sns.set_style(\"whitegrid\")\n",
                "sns.set_context({\"figure.figsize\": (6, 3)})\n",
                "hist=sns.histplot(df['order_amount'],bins=2000,color='#95BF47') #Shopify colors!\n",
                "hist.set( xlim= (0,1000),title = \"Histogram of sneaker prices \", ylabel = \"Count\")\n",
                "print(\"\")"
            ],
            "outputs": [
                {
                    "output_type": "stream",
                    "name": "stdout",
                    "text": [
                        "\n"
                    ]
                },
                {
                    "output_type": "display_data",
                    "data": {
                        "text/plain": [
                            "<Figure size 432x216 with 1 Axes>"
                        ],
                        "image/png": "[encoded data removed]"
                    },
                    "metadata": {
                        "image/png": {
                            "width": 403,
                            "height": 222
                        }
                    }
                }
            ],
            "metadata": {}
        },
        {
            "cell_type": "code",
            "execution_count": 143,
            "source": [
                "bx = sns.boxplot(x=df.loc[df[\"order_amount\"] <= 1000][\"order_amount\"], color=\"#95BF47\")\n",
                "bx.set(title=\"Boxplot of sneaker prices \", xlabel=\"Prices\")\n"
            ],
            "outputs": [
                {
                    "output_type": "execute_result",
                    "data": {
                        "text/plain": [
                            "[Text(0.5, 1.0, 'Boxplot of sneaker prices '), Text(0.5, 0, 'Prices')]"
                        ]
                    },
                    "metadata": {},
                    "execution_count": 143
                },
                {
                    "output_type": "display_data",
                    "data": {
                        "text/plain": [
                            "<Figure size 432x216 with 1 Axes>"
                        ],
                        "image/png": "[encoded data removed]"
                    },
                    "metadata": {
                        "image/png": {
                            "width": 351,
                            "height": 222
                        }
                    }
                }
            ],
            "metadata": {}
        },
        {
            "cell_type": "markdown",
            "source": [
                "#### Alternative Metrics"
            ],
            "metadata": {}
        },
        {
            "cell_type": "markdown",
            "source": [
                "Instead of the mean, an alternative we can use here is the median. The median is less sensitive to outliers, so will give us a more accurate result in this scenario when our data is skewed. This is the metric I would report for this dataset."
            ],
            "metadata": {}
        },
        {
            "cell_type": "code",
            "execution_count": 144,
            "source": [
                "print(\n",
                "    f\"The median price of shoes sold is ${np.median(df['order_amount'])}. I believe that this is a better estimate for average prices than the mean.\"\n",
                ")\n"
            ],
            "outputs": [
                {
                    "output_type": "stream",
                    "name": "stdout",
                    "text": [
                        "The median price of shoes sold is $284.0. I believe that this is a better estimate for average prices than the mean.\n"
                    ]
                }
            ],
            "metadata": {}
        }
    ],
    "metadata": {
        "orig_nbformat": 4,
        "language_info": {
            "name": "python",
            "version": "3.9.0",
            "mimetype": "text/x-python",
            "codemirror_mode": {
                "name": "ipython",
                "version": 3
            },
            "pygments_lexer": "ipython3",
            "nbconvert_exporter": "python",
            "file_extension": ".py"
        },
        "kernelspec": {
            "name": "python3",
            "display_name": "Python 3.9.0 64-bit ('venv1': conda)"
        },
        "interpreter": {
            "hash": "7a6d299408f2023e0a200d93f96af30feb246c6cc222adc42d2612aa5ba88688"
        }
    },
    "nbformat": 4,
    "nbformat_minor": 2
}