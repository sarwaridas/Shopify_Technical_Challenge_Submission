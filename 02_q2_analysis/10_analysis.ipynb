{
    "cells": [
        {
            "cell_type": "markdown",
            "source": [
                "## Summer 2022 Data Science Intern Challenge at Shopify\n",
                "### by Sarwari Das\n"
            ],
            "metadata": {}
        },
        {
            "cell_type": "markdown",
            "source": [
                "### Question 2: For this question you’ll need to use SQL. Follow this link to access the data set required for the challenge. Please use queries to answer the following questions. Paste your queries along with your final numerical answers below."
            ],
            "metadata": {}
        },
        {
            "cell_type": "markdown",
            "source": [
                "## a) How many orders were shipped by Speedy Express in total?\n"
            ],
            "metadata": {}
        },
        {
            "cell_type": "markdown",
            "source": [
                "Query: \n",
                "\n",
                "\n",
                "SELECT COUNT(*)         \n",
                "FROM Orders         \n",
                "INNER JOIN Shippers     \n",
                "ON Orders.ShipperID = Shippers.ShipperID        \n",
                "WHERE ShipperName = \"Speedy Express\"\n",
                "\n",
                "Returns: 54\n",
                "\n",
                "## Therefore, **54** orders were shipped by Speedy Express."
            ],
            "metadata": {}
        },
        {
            "cell_type": "markdown",
            "source": [
                "## b) What is the last name of the employee with the most orders?\n"
            ],
            "metadata": {}
        },
        {
            "cell_type": "markdown",
            "source": [
                "Query:\n",
                "\n",
                "SELECT Employees.LastName,            \n",
                "COUNT( * ) as NumberOfOrders        \n",
                "FROM Orders         \n",
                "INNER JOIN Employees        \n",
                "ON Employees.EmployeeID=Orders.EmployeeID       \n",
                "GROUP BY Employees.EmployeeID       \n",
                "ORDER BY NumberOfOrders DESC        \n",
                "limit 1;        \n",
                "\n",
                "Returns: Peacock\n",
                "\n",
                "## Therefore, the last name of the employee with most orders is **Peacock**.\n",
                "\n"
            ],
            "metadata": {}
        },
        {
            "cell_type": "markdown",
            "source": [
                "## c) What product was ordered the most by customers in Germany?\n",
                "\n"
            ],
            "metadata": {}
        },
        {
            "cell_type": "markdown",
            "source": [
                "Query:\n",
                "\n",
                "SELECT Products.ProductName, SUM(OrderDetails.Quantity) as TotalQuantityOrdered         \n",
                "FROM Orders     \n",
                "INNER JOIN OrderDetails on Orders.OrderID = OrderDetails.OrderID            \n",
                "INNER JOIN Customers on Orders.CustomerID = Customers.CustomerID        \n",
                "INNER JOIN Products on OrderDetails.ProductID = Products.ProductID      \n",
                "WHERE Country = \"Germany\"       \n",
                "GROUP BY OrderDetails.ProductID     \n",
                "ORDER BY TotalQuantityOrdered DESC      \n",
                "limit 1;        \n",
                "\n",
                "Returns: Boston Crab Meat\n",
                "\n",
                "## Therefore, the product that was ordered the most by customers in Germany was **Boston Crab Meat.**\n",
                "\n"
            ],
            "metadata": {}
        }
    ],
    "metadata": {
        "orig_nbformat": 4,
        "language_info": {
            "name": "python",
            "version": "3.9.0"
        },
        "kernelspec": {
            "name": "python3",
            "display_name": "Python 3.9.0 64-bit ('venv1': conda)"
        },
        "interpreter": {
            "hash": "7a6d299408f2023e0a200d93f96af30feb246c6cc222adc42d2612aa5ba88688"
        }
    },
    "nbformat": 4,
    "nbformat_minor": 2
}